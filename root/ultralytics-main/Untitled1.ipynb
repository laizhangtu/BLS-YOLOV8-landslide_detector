{
 "cells": [
  {
   "cell_type": "code",
   "execution_count": null,
   "id": "368ffe40-5766-4c3b-b24e-3f0a6f45ec68",
   "metadata": {
    "tags": []
   },
   "outputs": [
    {
     "name": "stdout",
     "output_type": "stream",
     "text": [
      ".pre-commit-config.yaml\n",
      "CITATION.cff\n",
      "CONTRIBUTING.md\n",
      "optimizer.py\n",
      "pyproject.toml\n",
      "yolo-ls.yaml\n",
      "yolotc.py\n",
      "yolov8-run.py\n",
      "yolov8-train.py\n",
      "yolov8n.pt\n",
      "yolov8s-train.py\n",
      "yolov8s.pt\n",
      "val.py\n",
      "Untitled.ipynb\n",
      "Untitled1.ipynb\n",
      "bls-yolo.zip\n"
     ]
    }
   ],
   "source": [
    "# 压缩当前路径所有文件，输出zip文件\n",
    "path='./'\n",
    "\n",
    "import zipfile,os\n",
    "zipName = 'bls-yolo.zip' #压缩后文件的位置及名称\n",
    "f = zipfile.ZipFile( zipName, 'w', zipfile.ZIP_DEFLATED )\n",
    "for dirpath, dirnames, filenames in os.walk(path):\n",
    "    for filename in filenames:\n",
    "        print(filename)\n",
    "        f.write(os.path.join(dirpath,filename))\n",
    "f.close()\n"
   ]
  },
  {
   "cell_type": "code",
   "execution_count": null,
   "id": "bd34c380-03bd-42b5-9a53-b993cf8341f2",
   "metadata": {},
   "outputs": [],
   "source": []
  }
 ],
 "metadata": {
  "kernelspec": {
   "display_name": "Python 3 (ipykernel)",
   "language": "python",
   "name": "python3"
  },
  "language_info": {
   "codemirror_mode": {
    "name": "ipython",
    "version": 3
   },
   "file_extension": ".py",
   "mimetype": "text/x-python",
   "name": "python",
   "nbconvert_exporter": "python",
   "pygments_lexer": "ipython3",
   "version": "3.8.10"
  }
 },
 "nbformat": 4,
 "nbformat_minor": 5
}
